{
 "cells": [
  {
   "cell_type": "code",
   "execution_count": 1,
   "id": "081b71b8",
   "metadata": {},
   "outputs": [
    {
     "name": "stdout",
     "output_type": "stream",
     "text": [
      "8\n"
     ]
    }
   ],
   "source": [
    "print(5 + 3)"
   ]
  },
  {
   "cell_type": "code",
   "execution_count": 2,
   "id": "56b8e386",
   "metadata": {},
   "outputs": [
    {
     "name": "stdout",
     "output_type": "stream",
     "text": [
      "hello\n"
     ]
    }
   ],
   "source": [
    "print(\"hello\")"
   ]
  },
  {
   "cell_type": "code",
   "execution_count": 3,
   "id": "4b6fc341",
   "metadata": {},
   "outputs": [
    {
     "data": {
      "text/plain": [
       "str"
      ]
     },
     "execution_count": 3,
     "metadata": {},
     "output_type": "execute_result"
    }
   ],
   "source": [
    "type(\"Hello\")"
   ]
  },
  {
   "cell_type": "code",
   "execution_count": 4,
   "id": "ff4d65c9",
   "metadata": {},
   "outputs": [],
   "source": [
    "greeting = \"hello\""
   ]
  },
  {
   "cell_type": "code",
   "execution_count": 5,
   "id": "2eeb30e3",
   "metadata": {},
   "outputs": [
    {
     "ename": "SyntaxError",
     "evalue": "invalid syntax (3579977688.py, line 1)",
     "output_type": "error",
     "traceback": [
      "\u001b[0;36m  Input \u001b[0;32mIn [5]\u001b[0;36m\u001b[0m\n\u001b[0;31m    print(greeting)\"\"\u001b[0m\n\u001b[0m                   ^\u001b[0m\n\u001b[0;31mSyntaxError\u001b[0m\u001b[0;31m:\u001b[0m invalid syntax\n"
     ]
    }
   ],
   "source": [
    "print(greeting)\"\""
   ]
  },
  {
   "cell_type": "code",
   "execution_count": 6,
   "id": "56cc1ccb",
   "metadata": {},
   "outputs": [
    {
     "name": "stdout",
     "output_type": "stream",
     "text": [
      "hello\n"
     ]
    }
   ],
   "source": [
    "print(greeting)"
   ]
  },
  {
   "cell_type": "code",
   "execution_count": 7,
   "id": "36921a9b",
   "metadata": {},
   "outputs": [
    {
     "name": "stdout",
     "output_type": "stream",
     "text": [
      "hello John\n"
     ]
    }
   ],
   "source": [
    "neighbor =\"John\"\n",
    "print(greeting, neighbor)"
   ]
  },
  {
   "cell_type": "code",
   "execution_count": 8,
   "id": "80422dc2",
   "metadata": {},
   "outputs": [
    {
     "name": "stdout",
     "output_type": "stream",
     "text": [
      "My daughter is 5 years old\n"
     ]
    }
   ],
   "source": [
    "age = 5\n",
    "print(\"My daughter is\", age, \"years old\")"
   ]
  },
  {
   "cell_type": "code",
   "execution_count": 9,
   "id": "5ab5a222",
   "metadata": {},
   "outputs": [
    {
     "name": "stdout",
     "output_type": "stream",
     "text": [
      "Next year she will be 6\n"
     ]
    }
   ],
   "source": [
    "print(\"Next year she will be\", age + 1)"
   ]
  },
  {
   "cell_type": "code",
   "execution_count": 10,
   "id": "0c4004bf",
   "metadata": {},
   "outputs": [
    {
     "name": "stdout",
     "output_type": "stream",
     "text": [
      "50.0\n"
     ]
    }
   ],
   "source": [
    "lb = 50.0\n",
    "kg = lb * 2.2\n",
    "print(lb)"
   ]
  },
  {
   "cell_type": "code",
   "execution_count": 11,
   "id": "27fa9130",
   "metadata": {},
   "outputs": [
    {
     "data": {
      "text/plain": [
       "float"
      ]
     },
     "execution_count": 11,
     "metadata": {},
     "output_type": "execute_result"
    }
   ],
   "source": [
    "type(lb)"
   ]
  },
  {
   "cell_type": "code",
   "execution_count": 13,
   "id": "51a71b0e",
   "metadata": {},
   "outputs": [
    {
     "name": "stdout",
     "output_type": "stream",
     "text": [
      "50.5 <class 'float'>\n",
      "10 <class 'int'>\n",
      "60.5 <class 'float'>\n"
     ]
    }
   ],
   "source": [
    "my_float = 50.5\n",
    "print(my_float, type(my_float))\n",
    "my_integer=10\n",
    "print(my_integer, type(my_integer))\n",
    "float_plus_integer = my_float + my_integer\n",
    "print(float_plus_integer, type (float_plus_integer))"
   ]
  },
  {
   "cell_type": "code",
   "execution_count": 14,
   "id": "8a46a9e1",
   "metadata": {},
   "outputs": [
    {
     "name": "stdout",
     "output_type": "stream",
     "text": [
      "P\n"
     ]
    }
   ],
   "source": [
    "name = \"Python\"\n",
    "print(name[0])"
   ]
  },
  {
   "cell_type": "code",
   "execution_count": 15,
   "id": "b501eb60",
   "metadata": {},
   "outputs": [
    {
     "name": "stdout",
     "output_type": "stream",
     "text": [
      "y\n",
      "t\n"
     ]
    }
   ],
   "source": [
    "print(name[1])\n",
    "print(name[2])"
   ]
  },
  {
   "cell_type": "code",
   "execution_count": 16,
   "id": "139a1694",
   "metadata": {},
   "outputs": [
    {
     "name": "stdout",
     "output_type": "stream",
     "text": [
      "n\n"
     ]
    }
   ],
   "source": [
    "print(name[-1])"
   ]
  },
  {
   "cell_type": "code",
   "execution_count": 17,
   "id": "11af5b33",
   "metadata": {},
   "outputs": [
    {
     "name": "stdout",
     "output_type": "stream",
     "text": [
      "yt\n"
     ]
    }
   ],
   "source": [
    "print(name[1:3])"
   ]
  },
  {
   "cell_type": "code",
   "execution_count": 18,
   "id": "30ab57cf",
   "metadata": {},
   "outputs": [
    {
     "name": "stdout",
     "output_type": "stream",
     "text": [
      "Python\n"
     ]
    }
   ],
   "source": [
    "print(name[::1])"
   ]
  },
  {
   "cell_type": "code",
   "execution_count": 19,
   "id": "3c61ce83",
   "metadata": {},
   "outputs": [
    {
     "name": "stdout",
     "output_type": "stream",
     "text": [
      "Pto\n"
     ]
    }
   ],
   "source": [
    "print(name[0:6:2])"
   ]
  },
  {
   "cell_type": "code",
   "execution_count": 20,
   "id": "0e19a619",
   "metadata": {},
   "outputs": [
    {
     "name": "stdout",
     "output_type": "stream",
     "text": [
      "6\n",
      "6\n"
     ]
    }
   ],
   "source": [
    "print(3+3)\n",
    "my_variable_name = 3+3\n",
    "print(my_variable_name)"
   ]
  },
  {
   "cell_type": "code",
   "execution_count": 21,
   "id": "82454178",
   "metadata": {},
   "outputs": [
    {
     "name": "stdout",
     "output_type": "stream",
     "text": [
      "4\n"
     ]
    }
   ],
   "source": [
    "x = 6\n",
    "x = 4\n",
    "print(x)"
   ]
  },
  {
   "cell_type": "code",
   "execution_count": 22,
   "id": "c291dc35",
   "metadata": {},
   "outputs": [
    {
     "name": "stdout",
     "output_type": "stream",
     "text": [
      "C A G\n"
     ]
    }
   ],
   "source": [
    "seq = \"CACGTG\"\n",
    "b1 = seq[0]\n",
    "b2 = seq[1]\n",
    "b3 = seq[3]\n",
    "print(b1, b2, b3)"
   ]
  },
  {
   "cell_type": "code",
   "execution_count": 23,
   "id": "990c37d7",
   "metadata": {},
   "outputs": [
    {
     "name": "stdout",
     "output_type": "stream",
     "text": [
      "CAG\n"
     ]
    }
   ],
   "source": [
    "first3 = b1 + b2 + b3\n",
    "print(first3)"
   ]
  },
  {
   "cell_type": "code",
   "execution_count": 24,
   "id": "31a2f7cf",
   "metadata": {},
   "outputs": [
    {
     "name": "stdout",
     "output_type": "stream",
     "text": [
      "GAC\n"
     ]
    }
   ],
   "source": [
    "r3 = b3 + b2 + b1\n",
    "print(r3)"
   ]
  },
  {
   "cell_type": "code",
   "execution_count": 25,
   "id": "7d8ceedc",
   "metadata": {},
   "outputs": [
    {
     "data": {
      "text/plain": [
       "'GAT'"
      ]
     },
     "execution_count": 25,
     "metadata": {},
     "output_type": "execute_result"
    }
   ],
   "source": [
    "r3[:2] + \"T\""
   ]
  },
  {
   "cell_type": "code",
   "execution_count": 26,
   "id": "3f1fbe1c",
   "metadata": {},
   "outputs": [],
   "source": [
    "seq = \"ACCTGCATGC\""
   ]
  },
  {
   "cell_type": "code",
   "execution_count": 27,
   "id": "eac7c4e0",
   "metadata": {},
   "outputs": [
    {
     "name": "stdout",
     "output_type": "stream",
     "text": [
      "A\n",
      "C\n",
      "C\n",
      "T\n",
      "G\n",
      "C\n",
      "A\n",
      "T\n",
      "G\n",
      "C\n"
     ]
    }
   ],
   "source": [
    "for i in seq:\n",
    "    print(i)"
   ]
  },
  {
   "cell_type": "code",
   "execution_count": 29,
   "id": "2598500a",
   "metadata": {},
   "outputs": [
    {
     "name": "stdout",
     "output_type": "stream",
     "text": [
      "Before\n",
      "Loop: A\n",
      "Loop: C\n",
      "Loop: C\n",
      "Loop: T\n",
      "Loop: G\n",
      "Loop: C\n",
      "Loop: A\n",
      "Loop: T\n",
      "Loop: G\n",
      "Loop: C\n",
      "After\n"
     ]
    }
   ],
   "source": [
    "print(\"Before\")\n",
    "for b in seq:\n",
    "    print(\"Loop:\", b)\n",
    "print(\"After\")\n",
    "    "
   ]
  },
  {
   "cell_type": "code",
   "execution_count": 30,
   "id": "517bf1e5",
   "metadata": {},
   "outputs": [
    {
     "name": "stdout",
     "output_type": "stream",
     "text": [
      "10\n"
     ]
    }
   ],
   "source": [
    "count = 0\n",
    "for s in seq:\n",
    "    count = count + 1\n",
    "print(count)"
   ]
  },
  {
   "cell_type": "code",
   "execution_count": 31,
   "id": "208a1012",
   "metadata": {},
   "outputs": [],
   "source": [
    "rev = ''"
   ]
  },
  {
   "cell_type": "code",
   "execution_count": 32,
   "id": "a18a2ac3",
   "metadata": {},
   "outputs": [
    {
     "name": "stdout",
     "output_type": "stream",
     "text": [
      "\n"
     ]
    }
   ],
   "source": [
    "print(rev)"
   ]
  },
  {
   "cell_type": "code",
   "execution_count": 33,
   "id": "0b7a071f",
   "metadata": {},
   "outputs": [
    {
     "ename": "SyntaxError",
     "evalue": "invalid syntax (767362629.py, line 1)",
     "output_type": "error",
     "traceback": [
      "\u001b[0;36m  Input \u001b[0;32mIn [33]\u001b[0;36m\u001b[0m\n\u001b[0;31m    rev = seq(:-1)\u001b[0m\n\u001b[0m              ^\u001b[0m\n\u001b[0;31mSyntaxError\u001b[0m\u001b[0;31m:\u001b[0m invalid syntax\n"
     ]
    }
   ],
   "source": [
    "rev = seq(:-1)"
   ]
  },
  {
   "cell_type": "code",
   "execution_count": 34,
   "id": "eb5e5e9b",
   "metadata": {},
   "outputs": [
    {
     "ename": "SyntaxError",
     "evalue": "invalid syntax (3617985804.py, line 1)",
     "output_type": "error",
     "traceback": [
      "\u001b[0;36m  Input \u001b[0;32mIn [34]\u001b[0;36m\u001b[0m\n\u001b[0;31m    print(seq{:-1})\u001b[0m\n\u001b[0m             ^\u001b[0m\n\u001b[0;31mSyntaxError\u001b[0m\u001b[0;31m:\u001b[0m invalid syntax\n"
     ]
    }
   ],
   "source": [
    "print(seq{:-1})"
   ]
  },
  {
   "cell_type": "code",
   "execution_count": 35,
   "id": "b0303743",
   "metadata": {},
   "outputs": [],
   "source": [
    "rev = seq[-1]"
   ]
  },
  {
   "cell_type": "code",
   "execution_count": 36,
   "id": "1dbc55fc",
   "metadata": {},
   "outputs": [
    {
     "name": "stdout",
     "output_type": "stream",
     "text": [
      "C\n"
     ]
    }
   ],
   "source": [
    "print(rev)"
   ]
  },
  {
   "cell_type": "code",
   "execution_count": 37,
   "id": "72acb787",
   "metadata": {},
   "outputs": [
    {
     "ename": "TypeError",
     "evalue": "can only concatenate str (not \"int\") to str",
     "output_type": "error",
     "traceback": [
      "\u001b[0;31m---------------------------------------------------------------------------\u001b[0m",
      "\u001b[0;31mTypeError\u001b[0m                                 Traceback (most recent call last)",
      "Input \u001b[0;32mIn [37]\u001b[0m, in \u001b[0;36m<cell line: 1>\u001b[0;34m()\u001b[0m\n\u001b[1;32m      1\u001b[0m \u001b[38;5;28;01mfor\u001b[39;00m s \u001b[38;5;129;01min\u001b[39;00m seq:\n\u001b[0;32m----> 2\u001b[0m     \u001b[38;5;28mprint\u001b[39m(\u001b[43mseq\u001b[49m\u001b[43m[\u001b[49m\u001b[43m:\u001b[49m\u001b[38;5;241;43m-\u001b[39;49m\u001b[38;5;241;43m1\u001b[39;49m\u001b[43m]\u001b[49m\u001b[43m \u001b[49m\u001b[38;5;241;43m+\u001b[39;49m\u001b[38;5;241;43m1\u001b[39;49m )\n",
      "\u001b[0;31mTypeError\u001b[0m: can only concatenate str (not \"int\") to str"
     ]
    }
   ],
   "source": [
    "for s in seq:\n",
    "    print(seq[:-1] +1 )"
   ]
  },
  {
   "cell_type": "code",
   "execution_count": 38,
   "id": "d207ede4",
   "metadata": {},
   "outputs": [],
   "source": [
    "rev = ''"
   ]
  },
  {
   "cell_type": "code",
   "execution_count": 39,
   "id": "0e31a092",
   "metadata": {},
   "outputs": [],
   "source": [
    "rev=seq[::-1]"
   ]
  },
  {
   "cell_type": "code",
   "execution_count": 40,
   "id": "2bccbaca",
   "metadata": {},
   "outputs": [
    {
     "name": "stdout",
     "output_type": "stream",
     "text": [
      "CGTACGTCCA\n"
     ]
    }
   ],
   "source": [
    "print(rev)"
   ]
  },
  {
   "cell_type": "code",
   "execution_count": 41,
   "id": "58e54285",
   "metadata": {},
   "outputs": [
    {
     "name": "stdout",
     "output_type": "stream",
     "text": [
      "{'key': 'value', 'second_key': 2, 3: 'third_value'}\n"
     ]
    }
   ],
   "source": [
    "my_dictionary = {\"key\":\"value\", \"second_key\":2, 3:\"third_value\"}\n",
    "print(my_dictionary)"
   ]
  },
  {
   "cell_type": "code",
   "execution_count": 42,
   "id": "65c92760",
   "metadata": {},
   "outputs": [
    {
     "name": "stdout",
     "output_type": "stream",
     "text": [
      "{'A': 2, 'C': 4, 'G': 2, 'T': 2}\n"
     ]
    }
   ],
   "source": [
    "counts = {\"A\": 2, \"C\": 4, \"G\": 2, \"T\": 2}\n",
    "print(counts)"
   ]
  },
  {
   "cell_type": "code",
   "execution_count": 44,
   "id": "1441618d",
   "metadata": {},
   "outputs": [
    {
     "name": "stdout",
     "output_type": "stream",
     "text": [
      "{'A': 3, 'C': 4, 'G': 2, 'T': 2}\n"
     ]
    }
   ],
   "source": [
    "counts[\"A\"] = 3\n",
    "print(counts)"
   ]
  },
  {
   "cell_type": "code",
   "execution_count": 45,
   "id": "8321ec73",
   "metadata": {},
   "outputs": [
    {
     "name": "stdout",
     "output_type": "stream",
     "text": [
      "3 A\n",
      "4 C\n",
      "2 G\n",
      "2 T\n"
     ]
    }
   ],
   "source": [
    "for c in counts:\n",
    "    how_much = counts[c]\n",
    "    print(how_much, c)"
   ]
  },
  {
   "cell_type": "code",
   "execution_count": 46,
   "id": "302476b0",
   "metadata": {},
   "outputs": [
    {
     "name": "stdout",
     "output_type": "stream",
     "text": [
      "{'key': 'value', 'second_key': 2, 3: 'third_value'}\n"
     ]
    }
   ],
   "source": [
    "print(my_dictionary)"
   ]
  },
  {
   "cell_type": "code",
   "execution_count": 47,
   "id": "74f7a801",
   "metadata": {},
   "outputs": [
    {
     "name": "stdout",
     "output_type": "stream",
     "text": [
      "{'A': 3, 'C': 4, 'G': 2, 'T': 2}\n"
     ]
    }
   ],
   "source": [
    "my_dictionary = counts\n",
    "print(my_dictionary)"
   ]
  },
  {
   "cell_type": "code",
   "execution_count": 48,
   "id": "616425c9",
   "metadata": {},
   "outputs": [
    {
     "ename": "TypeError",
     "evalue": "can only concatenate str (not \"int\") to str",
     "output_type": "error",
     "traceback": [
      "\u001b[0;31m---------------------------------------------------------------------------\u001b[0m",
      "\u001b[0;31mTypeError\u001b[0m                                 Traceback (most recent call last)",
      "Input \u001b[0;32mIn [48]\u001b[0m, in \u001b[0;36m<cell line: 2>\u001b[0;34m()\u001b[0m\n\u001b[1;32m      1\u001b[0m total \u001b[38;5;241m=\u001b[39m \u001b[38;5;124m\"\u001b[39m\u001b[38;5;124m\"\u001b[39m\n\u001b[1;32m      2\u001b[0m \u001b[38;5;28;01mfor\u001b[39;00m s \u001b[38;5;129;01min\u001b[39;00m counts:\n\u001b[0;32m----> 3\u001b[0m     total \u001b[38;5;241m=\u001b[39m \u001b[43mtotal\u001b[49m\u001b[43m \u001b[49m\u001b[38;5;241;43m+\u001b[39;49m\u001b[43m \u001b[49m\u001b[38;5;241;43m1\u001b[39;49m\n\u001b[1;32m      4\u001b[0m \u001b[38;5;28mprint\u001b[39m(total)\n",
      "\u001b[0;31mTypeError\u001b[0m: can only concatenate str (not \"int\") to str"
     ]
    }
   ],
   "source": [
    "total = \"\"\n",
    "for s in counts:\n",
    "    total = total + 1\n",
    "print(total)\n",
    "    "
   ]
  },
  {
   "cell_type": "code",
   "execution_count": 49,
   "id": "404be1fc",
   "metadata": {},
   "outputs": [
    {
     "name": "stdout",
     "output_type": "stream",
     "text": [
      "{'A': 3, 'C': 4, 'G': 2, 'T': 2}\n"
     ]
    }
   ],
   "source": [
    "print(counts)"
   ]
  },
  {
   "cell_type": "code",
   "execution_count": 53,
   "id": "c7c1d32d",
   "metadata": {},
   "outputs": [],
   "source": [
    "total=0"
   ]
  },
  {
   "cell_type": "code",
   "execution_count": 54,
   "id": "fc9531ca",
   "metadata": {},
   "outputs": [],
   "source": [
    "for c in counts:\n",
    "    total = total+counts[c]"
   ]
  },
  {
   "cell_type": "code",
   "execution_count": 55,
   "id": "633be979",
   "metadata": {},
   "outputs": [
    {
     "name": "stdout",
     "output_type": "stream",
     "text": [
      "11\n"
     ]
    }
   ],
   "source": [
    "print(total)"
   ]
  },
  {
   "cell_type": "code",
   "execution_count": 56,
   "id": "8234f9ef",
   "metadata": {},
   "outputs": [
    {
     "name": "stdout",
     "output_type": "stream",
     "text": [
      "T\n"
     ]
    }
   ],
   "source": [
    "comps = {\"A\":\"T\", \"T\":\"A\"}\n",
    "print(comps[\"A\"])"
   ]
  },
  {
   "cell_type": "code",
   "execution_count": 57,
   "id": "c279f088",
   "metadata": {},
   "outputs": [
    {
     "name": "stdout",
     "output_type": "stream",
     "text": [
      "{'A': 'T', 'T': 'A', 'C': 'G', 'G': 'C'}\n"
     ]
    }
   ],
   "source": [
    "comps[\"C\"] = \"G\"\n",
    "comps[\"G\"] = \"C\"\n",
    "print(comps)"
   ]
  },
  {
   "cell_type": "code",
   "execution_count": 61,
   "id": "6deee036",
   "metadata": {},
   "outputs": [
    {
     "name": "stdout",
     "output_type": "stream",
     "text": [
      "ACCTGCATGC\n",
      "TGGACGTACG\n",
      "GCATGCAGGT\n"
     ]
    }
   ],
   "source": [
    "complement = \"\"\n",
    "for i in seq:\n",
    "    comp_letter = comps[i]\n",
    "    complement = complement + comp_letter\n",
    "print(seq)\n",
    "print(complement)\n",
    "print(complement[::-1])"
   ]
  },
  {
   "cell_type": "code",
   "execution_count": 62,
   "id": "691de266",
   "metadata": {},
   "outputs": [
    {
     "name": "stdout",
     "output_type": "stream",
     "text": [
      "['ACCTGCATGC', 'TGGACGTACG', 'GCATGCAGGT']\n"
     ]
    }
   ],
   "source": [
    "sequences = [seq, complement, complement[::-1]]\n",
    "print(sequences)"
   ]
  },
  {
   "cell_type": "code",
   "execution_count": 63,
   "id": "7d07bae7",
   "metadata": {},
   "outputs": [
    {
     "name": "stdout",
     "output_type": "stream",
     "text": [
      "ACCTGCATGC\n",
      "TGGACGTACG\n",
      "GCATGCAGGT\n"
     ]
    }
   ],
   "source": [
    "for i in sequences:\n",
    "    print(i)"
   ]
  },
  {
   "cell_type": "code",
   "execution_count": 64,
   "id": "5f47dbc5",
   "metadata": {},
   "outputs": [],
   "source": [
    "sequences[0] = \"AAAAAGGGGG\""
   ]
  },
  {
   "cell_type": "code",
   "execution_count": 65,
   "id": "4a34ed76",
   "metadata": {},
   "outputs": [
    {
     "name": "stdout",
     "output_type": "stream",
     "text": [
      "['AAAAAGGGGG', 'TGGACGTACG', 'GCATGCAGGT']\n"
     ]
    }
   ],
   "source": [
    "print(sequences)"
   ]
  },
  {
   "cell_type": "code",
   "execution_count": 66,
   "id": "bbf81d37",
   "metadata": {},
   "outputs": [
    {
     "name": "stdout",
     "output_type": "stream",
     "text": [
      "['TGGACGTACG', 'GCATGCAGGT']\n"
     ]
    }
   ],
   "source": [
    "del sequences[0]\n",
    "print(sequences)"
   ]
  },
  {
   "cell_type": "code",
   "execution_count": 67,
   "id": "54465ec3",
   "metadata": {},
   "outputs": [
    {
     "name": "stdout",
     "output_type": "stream",
     "text": [
      "Sequence contains GC\n"
     ]
    }
   ],
   "source": [
    "if \"GC\" in seq:\n",
    "    print(\"Sequence contains GC\")\n",
    "else:\n",
    "    print(\"Sequences does not contain GC\")"
   ]
  },
  {
   "cell_type": "code",
   "execution_count": 69,
   "id": "c1bc1eb7",
   "metadata": {},
   "outputs": [
    {
     "name": "stdout",
     "output_type": "stream",
     "text": [
      "GC-content percentage = 60.0\n"
     ]
    }
   ],
   "source": [
    "gc = 0\n",
    "atgc = 0\n",
    "for s in seq:\n",
    "    if s == \"G\" or s==\"C\":\n",
    "        gc = gc + 1\n",
    "    atgc = atgc + 1\n",
    "percent = (gc * 100) / atgc\n",
    "print(\"GC-content percentage =\", percent)"
   ]
  },
  {
   "cell_type": "code",
   "execution_count": 70,
   "id": "e3da6d83",
   "metadata": {},
   "outputs": [],
   "source": [
    "if \"A\"==\"A\" and \"A\"==\"B\":\n",
    "    print(\"Test\")"
   ]
  },
  {
   "cell_type": "code",
   "execution_count": 71,
   "id": "05314a6d",
   "metadata": {},
   "outputs": [
    {
     "name": "stdout",
     "output_type": "stream",
     "text": [
      "Low\n"
     ]
    }
   ],
   "source": [
    "percent = 20\n",
    "if percent < 35:\n",
    "    print(\"Low\")\n",
    "else: \n",
    "    if percent <56:\n",
    "        print(\"Normal\")\n",
    "    else:\n",
    "        print(\"High\")"
   ]
  },
  {
   "cell_type": "code",
   "execution_count": 73,
   "id": "f4a9525c",
   "metadata": {},
   "outputs": [
    {
     "name": "stdout",
     "output_type": "stream",
     "text": [
      "Normal\n"
     ]
    }
   ],
   "source": [
    "percent = 40\n",
    "if percent < 35:\n",
    "    print(\"Low\")\n",
    "elif percent < 56:\n",
    "    print(\"Normal\")\n",
    "else: \n",
    "    print(\"High\")"
   ]
  },
  {
   "cell_type": "code",
   "execution_count": 74,
   "id": "9e4e1d67",
   "metadata": {},
   "outputs": [
    {
     "name": "stdout",
     "output_type": "stream",
     "text": [
      "10\n"
     ]
    }
   ],
   "source": [
    "print(len(seq))"
   ]
  },
  {
   "cell_type": "code",
   "execution_count": 75,
   "id": "0b5c3cc9",
   "metadata": {},
   "outputs": [
    {
     "name": "stdout",
     "output_type": "stream",
     "text": [
      "[1, 2, 3, 5, 7]\n"
     ]
    }
   ],
   "source": [
    "x = [7, 3, 2, 5, 1]\n",
    "y = sorted(x)\n",
    "print(y)"
   ]
  },
  {
   "cell_type": "code",
   "execution_count": 76,
   "id": "fcae9904",
   "metadata": {},
   "outputs": [
    {
     "name": "stdout",
     "output_type": "stream",
     "text": [
      "['rna', 'dna', 'protein']\n"
     ]
    }
   ],
   "source": [
    "seqs = \"rna dna protein\"\n",
    "seqs_list = seqs.split()\n",
    "print(seqs_list)"
   ]
  },
  {
   "cell_type": "code",
   "execution_count": 77,
   "id": "eca3c2b1",
   "metadata": {},
   "outputs": [],
   "source": [
    "bases = \"adenine cytosine guanine thymine\""
   ]
  },
  {
   "cell_type": "code",
   "execution_count": 78,
   "id": "d8390fe7",
   "metadata": {},
   "outputs": [
    {
     "name": "stdout",
     "output_type": "stream",
     "text": [
      "['adenine', 'cytosine', 'guanine', 'thymine']\n"
     ]
    }
   ],
   "source": [
    "bases_list = bases.split()\n",
    "print(bases_list)"
   ]
  },
  {
   "cell_type": "code",
   "execution_count": 79,
   "id": "62e3276e",
   "metadata": {},
   "outputs": [
    {
     "name": "stdout",
     "output_type": "stream",
     "text": [
      "Help on class str in module builtins:\n",
      "\n",
      "class str(object)\n",
      " |  str(object='') -> str\n",
      " |  str(bytes_or_buffer[, encoding[, errors]]) -> str\n",
      " |  \n",
      " |  Create a new string object from the given object. If encoding or\n",
      " |  errors is specified, then the object must expose a data buffer\n",
      " |  that will be decoded using the given encoding and error handler.\n",
      " |  Otherwise, returns the result of object.__str__() (if defined)\n",
      " |  or repr(object).\n",
      " |  encoding defaults to sys.getdefaultencoding().\n",
      " |  errors defaults to 'strict'.\n",
      " |  \n",
      " |  Methods defined here:\n",
      " |  \n",
      " |  __add__(self, value, /)\n",
      " |      Return self+value.\n",
      " |  \n",
      " |  __contains__(self, key, /)\n",
      " |      Return key in self.\n",
      " |  \n",
      " |  __eq__(self, value, /)\n",
      " |      Return self==value.\n",
      " |  \n",
      " |  __format__(self, format_spec, /)\n",
      " |      Return a formatted version of the string as described by format_spec.\n",
      " |  \n",
      " |  __ge__(self, value, /)\n",
      " |      Return self>=value.\n",
      " |  \n",
      " |  __getattribute__(self, name, /)\n",
      " |      Return getattr(self, name).\n",
      " |  \n",
      " |  __getitem__(self, key, /)\n",
      " |      Return self[key].\n",
      " |  \n",
      " |  __getnewargs__(...)\n",
      " |  \n",
      " |  __gt__(self, value, /)\n",
      " |      Return self>value.\n",
      " |  \n",
      " |  __hash__(self, /)\n",
      " |      Return hash(self).\n",
      " |  \n",
      " |  __iter__(self, /)\n",
      " |      Implement iter(self).\n",
      " |  \n",
      " |  __le__(self, value, /)\n",
      " |      Return self<=value.\n",
      " |  \n",
      " |  __len__(self, /)\n",
      " |      Return len(self).\n",
      " |  \n",
      " |  __lt__(self, value, /)\n",
      " |      Return self<value.\n",
      " |  \n",
      " |  __mod__(self, value, /)\n",
      " |      Return self%value.\n",
      " |  \n",
      " |  __mul__(self, value, /)\n",
      " |      Return self*value.\n",
      " |  \n",
      " |  __ne__(self, value, /)\n",
      " |      Return self!=value.\n",
      " |  \n",
      " |  __repr__(self, /)\n",
      " |      Return repr(self).\n",
      " |  \n",
      " |  __rmod__(self, value, /)\n",
      " |      Return value%self.\n",
      " |  \n",
      " |  __rmul__(self, value, /)\n",
      " |      Return value*self.\n",
      " |  \n",
      " |  __sizeof__(self, /)\n",
      " |      Return the size of the string in memory, in bytes.\n",
      " |  \n",
      " |  __str__(self, /)\n",
      " |      Return str(self).\n",
      " |  \n",
      " |  capitalize(self, /)\n",
      " |      Return a capitalized version of the string.\n",
      " |      \n",
      " |      More specifically, make the first character have upper case and the rest lower\n",
      " |      case.\n",
      " |  \n",
      " |  casefold(self, /)\n",
      " |      Return a version of the string suitable for caseless comparisons.\n",
      " |  \n",
      " |  center(self, width, fillchar=' ', /)\n",
      " |      Return a centered string of length width.\n",
      " |      \n",
      " |      Padding is done using the specified fill character (default is a space).\n",
      " |  \n",
      " |  count(...)\n",
      " |      S.count(sub[, start[, end]]) -> int\n",
      " |      \n",
      " |      Return the number of non-overlapping occurrences of substring sub in\n",
      " |      string S[start:end].  Optional arguments start and end are\n",
      " |      interpreted as in slice notation.\n",
      " |  \n",
      " |  encode(self, /, encoding='utf-8', errors='strict')\n",
      " |      Encode the string using the codec registered for encoding.\n",
      " |      \n",
      " |      encoding\n",
      " |        The encoding in which to encode the string.\n",
      " |      errors\n",
      " |        The error handling scheme to use for encoding errors.\n",
      " |        The default is 'strict' meaning that encoding errors raise a\n",
      " |        UnicodeEncodeError.  Other possible values are 'ignore', 'replace' and\n",
      " |        'xmlcharrefreplace' as well as any other name registered with\n",
      " |        codecs.register_error that can handle UnicodeEncodeErrors.\n",
      " |  \n",
      " |  endswith(...)\n",
      " |      S.endswith(suffix[, start[, end]]) -> bool\n",
      " |      \n",
      " |      Return True if S ends with the specified suffix, False otherwise.\n",
      " |      With optional start, test S beginning at that position.\n",
      " |      With optional end, stop comparing S at that position.\n",
      " |      suffix can also be a tuple of strings to try.\n",
      " |  \n",
      " |  expandtabs(self, /, tabsize=8)\n",
      " |      Return a copy where all tab characters are expanded using spaces.\n",
      " |      \n",
      " |      If tabsize is not given, a tab size of 8 characters is assumed.\n",
      " |  \n",
      " |  find(...)\n",
      " |      S.find(sub[, start[, end]]) -> int\n",
      " |      \n",
      " |      Return the lowest index in S where substring sub is found,\n",
      " |      such that sub is contained within S[start:end].  Optional\n",
      " |      arguments start and end are interpreted as in slice notation.\n",
      " |      \n",
      " |      Return -1 on failure.\n",
      " |  \n",
      " |  format(...)\n",
      " |      S.format(*args, **kwargs) -> str\n",
      " |      \n",
      " |      Return a formatted version of S, using substitutions from args and kwargs.\n",
      " |      The substitutions are identified by braces ('{' and '}').\n",
      " |  \n",
      " |  format_map(...)\n",
      " |      S.format_map(mapping) -> str\n",
      " |      \n",
      " |      Return a formatted version of S, using substitutions from mapping.\n",
      " |      The substitutions are identified by braces ('{' and '}').\n",
      " |  \n",
      " |  index(...)\n",
      " |      S.index(sub[, start[, end]]) -> int\n",
      " |      \n",
      " |      Return the lowest index in S where substring sub is found,\n",
      " |      such that sub is contained within S[start:end].  Optional\n",
      " |      arguments start and end are interpreted as in slice notation.\n",
      " |      \n",
      " |      Raises ValueError when the substring is not found.\n",
      " |  \n",
      " |  isalnum(self, /)\n",
      " |      Return True if the string is an alpha-numeric string, False otherwise.\n",
      " |      \n",
      " |      A string is alpha-numeric if all characters in the string are alpha-numeric and\n",
      " |      there is at least one character in the string.\n",
      " |  \n",
      " |  isalpha(self, /)\n",
      " |      Return True if the string is an alphabetic string, False otherwise.\n",
      " |      \n",
      " |      A string is alphabetic if all characters in the string are alphabetic and there\n",
      " |      is at least one character in the string.\n",
      " |  \n",
      " |  isascii(self, /)\n",
      " |      Return True if all characters in the string are ASCII, False otherwise.\n",
      " |      \n",
      " |      ASCII characters have code points in the range U+0000-U+007F.\n",
      " |      Empty string is ASCII too.\n",
      " |  \n",
      " |  isdecimal(self, /)\n",
      " |      Return True if the string is a decimal string, False otherwise.\n",
      " |      \n",
      " |      A string is a decimal string if all characters in the string are decimal and\n",
      " |      there is at least one character in the string.\n",
      " |  \n",
      " |  isdigit(self, /)\n",
      " |      Return True if the string is a digit string, False otherwise.\n",
      " |      \n",
      " |      A string is a digit string if all characters in the string are digits and there\n",
      " |      is at least one character in the string.\n",
      " |  \n",
      " |  isidentifier(self, /)\n",
      " |      Return True if the string is a valid Python identifier, False otherwise.\n",
      " |      \n",
      " |      Call keyword.iskeyword(s) to test whether string s is a reserved identifier,\n",
      " |      such as \"def\" or \"class\".\n",
      " |  \n",
      " |  islower(self, /)\n",
      " |      Return True if the string is a lowercase string, False otherwise.\n",
      " |      \n",
      " |      A string is lowercase if all cased characters in the string are lowercase and\n",
      " |      there is at least one cased character in the string.\n",
      " |  \n",
      " |  isnumeric(self, /)\n",
      " |      Return True if the string is a numeric string, False otherwise.\n",
      " |      \n",
      " |      A string is numeric if all characters in the string are numeric and there is at\n",
      " |      least one character in the string.\n",
      " |  \n",
      " |  isprintable(self, /)\n",
      " |      Return True if the string is printable, False otherwise.\n",
      " |      \n",
      " |      A string is printable if all of its characters are considered printable in\n",
      " |      repr() or if it is empty.\n",
      " |  \n",
      " |  isspace(self, /)\n",
      " |      Return True if the string is a whitespace string, False otherwise.\n",
      " |      \n",
      " |      A string is whitespace if all characters in the string are whitespace and there\n",
      " |      is at least one character in the string.\n",
      " |  \n",
      " |  istitle(self, /)\n",
      " |      Return True if the string is a title-cased string, False otherwise.\n",
      " |      \n",
      " |      In a title-cased string, upper- and title-case characters may only\n",
      " |      follow uncased characters and lowercase characters only cased ones.\n",
      " |  \n",
      " |  isupper(self, /)\n",
      " |      Return True if the string is an uppercase string, False otherwise.\n",
      " |      \n",
      " |      A string is uppercase if all cased characters in the string are uppercase and\n",
      " |      there is at least one cased character in the string.\n",
      " |  \n",
      " |  join(self, iterable, /)\n",
      " |      Concatenate any number of strings.\n",
      " |      \n",
      " |      The string whose method is called is inserted in between each given string.\n",
      " |      The result is returned as a new string.\n",
      " |      \n",
      " |      Example: '.'.join(['ab', 'pq', 'rs']) -> 'ab.pq.rs'\n",
      " |  \n",
      " |  ljust(self, width, fillchar=' ', /)\n",
      " |      Return a left-justified string of length width.\n",
      " |      \n",
      " |      Padding is done using the specified fill character (default is a space).\n",
      " |  \n",
      " |  lower(self, /)\n",
      " |      Return a copy of the string converted to lowercase.\n",
      " |  \n",
      " |  lstrip(self, chars=None, /)\n",
      " |      Return a copy of the string with leading whitespace removed.\n",
      " |      \n",
      " |      If chars is given and not None, remove characters in chars instead.\n",
      " |  \n",
      " |  partition(self, sep, /)\n",
      " |      Partition the string into three parts using the given separator.\n",
      " |      \n",
      " |      This will search for the separator in the string.  If the separator is found,\n",
      " |      returns a 3-tuple containing the part before the separator, the separator\n",
      " |      itself, and the part after it.\n",
      " |      \n",
      " |      If the separator is not found, returns a 3-tuple containing the original string\n",
      " |      and two empty strings.\n",
      " |  \n",
      " |  removeprefix(self, prefix, /)\n",
      " |      Return a str with the given prefix string removed if present.\n",
      " |      \n",
      " |      If the string starts with the prefix string, return string[len(prefix):].\n",
      " |      Otherwise, return a copy of the original string.\n",
      " |  \n",
      " |  removesuffix(self, suffix, /)\n",
      " |      Return a str with the given suffix string removed if present.\n",
      " |      \n",
      " |      If the string ends with the suffix string and that suffix is not empty,\n",
      " |      return string[:-len(suffix)]. Otherwise, return a copy of the original\n",
      " |      string.\n",
      " |  \n",
      " |  replace(self, old, new, count=-1, /)\n",
      " |      Return a copy with all occurrences of substring old replaced by new.\n",
      " |      \n",
      " |        count\n",
      " |          Maximum number of occurrences to replace.\n",
      " |          -1 (the default value) means replace all occurrences.\n",
      " |      \n",
      " |      If the optional argument count is given, only the first count occurrences are\n",
      " |      replaced.\n",
      " |  \n",
      " |  rfind(...)\n",
      " |      S.rfind(sub[, start[, end]]) -> int\n",
      " |      \n",
      " |      Return the highest index in S where substring sub is found,\n",
      " |      such that sub is contained within S[start:end].  Optional\n",
      " |      arguments start and end are interpreted as in slice notation.\n",
      " |      \n",
      " |      Return -1 on failure.\n",
      " |  \n",
      " |  rindex(...)\n",
      " |      S.rindex(sub[, start[, end]]) -> int\n",
      " |      \n",
      " |      Return the highest index in S where substring sub is found,\n",
      " |      such that sub is contained within S[start:end].  Optional\n",
      " |      arguments start and end are interpreted as in slice notation.\n",
      " |      \n",
      " |      Raises ValueError when the substring is not found.\n",
      " |  \n",
      " |  rjust(self, width, fillchar=' ', /)\n",
      " |      Return a right-justified string of length width.\n",
      " |      \n",
      " |      Padding is done using the specified fill character (default is a space).\n",
      " |  \n",
      " |  rpartition(self, sep, /)\n",
      " |      Partition the string into three parts using the given separator.\n",
      " |      \n",
      " |      This will search for the separator in the string, starting at the end. If\n",
      " |      the separator is found, returns a 3-tuple containing the part before the\n",
      " |      separator, the separator itself, and the part after it.\n",
      " |      \n",
      " |      If the separator is not found, returns a 3-tuple containing two empty strings\n",
      " |      and the original string.\n",
      " |  \n",
      " |  rsplit(self, /, sep=None, maxsplit=-1)\n",
      " |      Return a list of the words in the string, using sep as the delimiter string.\n",
      " |      \n",
      " |        sep\n",
      " |          The delimiter according which to split the string.\n",
      " |          None (the default value) means split according to any whitespace,\n",
      " |          and discard empty strings from the result.\n",
      " |        maxsplit\n",
      " |          Maximum number of splits to do.\n",
      " |          -1 (the default value) means no limit.\n",
      " |      \n",
      " |      Splits are done starting at the end of the string and working to the front.\n",
      " |  \n",
      " |  rstrip(self, chars=None, /)\n",
      " |      Return a copy of the string with trailing whitespace removed.\n",
      " |      \n",
      " |      If chars is given and not None, remove characters in chars instead.\n",
      " |  \n",
      " |  split(self, /, sep=None, maxsplit=-1)\n",
      " |      Return a list of the words in the string, using sep as the delimiter string.\n",
      " |      \n",
      " |      sep\n",
      " |        The delimiter according which to split the string.\n",
      " |        None (the default value) means split according to any whitespace,\n",
      " |        and discard empty strings from the result.\n",
      " |      maxsplit\n",
      " |        Maximum number of splits to do.\n",
      " |        -1 (the default value) means no limit.\n",
      " |  \n",
      " |  splitlines(self, /, keepends=False)\n",
      " |      Return a list of the lines in the string, breaking at line boundaries.\n",
      " |      \n",
      " |      Line breaks are not included in the resulting list unless keepends is given and\n",
      " |      true.\n",
      " |  \n",
      " |  startswith(...)\n",
      " |      S.startswith(prefix[, start[, end]]) -> bool\n",
      " |      \n",
      " |      Return True if S starts with the specified prefix, False otherwise.\n",
      " |      With optional start, test S beginning at that position.\n",
      " |      With optional end, stop comparing S at that position.\n",
      " |      prefix can also be a tuple of strings to try.\n",
      " |  \n",
      " |  strip(self, chars=None, /)\n",
      " |      Return a copy of the string with leading and trailing whitespace removed.\n",
      " |      \n",
      " |      If chars is given and not None, remove characters in chars instead.\n",
      " |  \n",
      " |  swapcase(self, /)\n",
      " |      Convert uppercase characters to lowercase and lowercase characters to uppercase.\n",
      " |  \n",
      " |  title(self, /)\n",
      " |      Return a version of the string where each word is titlecased.\n",
      " |      \n",
      " |      More specifically, words start with uppercased characters and all remaining\n",
      " |      cased characters have lower case.\n",
      " |  \n",
      " |  translate(self, table, /)\n",
      " |      Replace each character in the string using the given translation table.\n",
      " |      \n",
      " |        table\n",
      " |          Translation table, which must be a mapping of Unicode ordinals to\n",
      " |          Unicode ordinals, strings, or None.\n",
      " |      \n",
      " |      The table must implement lookup/indexing via __getitem__, for instance a\n",
      " |      dictionary or list.  If this operation raises LookupError, the character is\n",
      " |      left untouched.  Characters mapped to None are deleted.\n",
      " |  \n",
      " |  upper(self, /)\n",
      " |      Return a copy of the string converted to uppercase.\n",
      " |  \n",
      " |  zfill(self, width, /)\n",
      " |      Pad a numeric string with zeros on the left, to fill a field of the given width.\n",
      " |      \n",
      " |      The string is never truncated.\n",
      " |  \n",
      " |  ----------------------------------------------------------------------\n",
      " |  Static methods defined here:\n",
      " |  \n",
      " |  __new__(*args, **kwargs) from builtins.type\n",
      " |      Create and return a new object.  See help(type) for accurate signature.\n",
      " |  \n",
      " |  maketrans(...)\n",
      " |      Return a translation table usable for str.translate().\n",
      " |      \n",
      " |      If there is only one argument, it must be a dictionary mapping Unicode\n",
      " |      ordinals (integers) or characters to Unicode ordinals, strings or None.\n",
      " |      Character keys will be then converted to ordinals.\n",
      " |      If there are two arguments, they must be strings of equal length, and\n",
      " |      in the resulting dictionary, each character in x will be mapped to the\n",
      " |      character at the same position in y. If there is a third argument, it\n",
      " |      must be a string, whose characters will be mapped to None in the result.\n",
      "\n"
     ]
    }
   ],
   "source": [
    "help(str)"
   ]
  },
  {
   "cell_type": "code",
   "execution_count": 80,
   "id": "d3180b0f",
   "metadata": {},
   "outputs": [
    {
     "ename": "SyntaxError",
     "evalue": "invalid syntax (3910560574.py, line 1)",
     "output_type": "error",
     "traceback": [
      "\u001b[0;36m  Input \u001b[0;32mIn [80]\u001b[0;36m\u001b[0m\n\u001b[0;31m    capitalize(bases_list /)\u001b[0m\n\u001b[0m                           ^\u001b[0m\n\u001b[0;31mSyntaxError\u001b[0m\u001b[0;31m:\u001b[0m invalid syntax\n"
     ]
    }
   ],
   "source": [
    "capitalize(bases_list /)"
   ]
  },
  {
   "cell_type": "code",
   "execution_count": 84,
   "id": "5c3a8db9",
   "metadata": {},
   "outputs": [
    {
     "ename": "NameError",
     "evalue": "name 'capitalize' is not defined",
     "output_type": "error",
     "traceback": [
      "\u001b[0;31m---------------------------------------------------------------------------\u001b[0m",
      "\u001b[0;31mNameError\u001b[0m                                 Traceback (most recent call last)",
      "Input \u001b[0;32mIn [84]\u001b[0m, in \u001b[0;36m<cell line: 1>\u001b[0;34m()\u001b[0m\n\u001b[0;32m----> 1\u001b[0m \u001b[43mcapitalize\u001b[49m(bases_list)\n",
      "\u001b[0;31mNameError\u001b[0m: name 'capitalize' is not defined"
     ]
    }
   ],
   "source": [
    "capitalize(bases_list)"
   ]
  },
  {
   "cell_type": "code",
   "execution_count": 86,
   "id": "06db5623",
   "metadata": {},
   "outputs": [
    {
     "data": {
      "text/plain": [
       "'Adenine cytosine guanine thymine'"
      ]
     },
     "execution_count": 86,
     "metadata": {},
     "output_type": "execute_result"
    }
   ],
   "source": [
    "bases.capitalize()"
   ]
  },
  {
   "cell_type": "code",
   "execution_count": 87,
   "id": "ff8e860c",
   "metadata": {},
   "outputs": [
    {
     "data": {
      "text/plain": [
       "'ADENINE CYTOSINE GUANINE THYMINE'"
      ]
     },
     "execution_count": 87,
     "metadata": {},
     "output_type": "execute_result"
    }
   ],
   "source": [
    "bases.swapcase()"
   ]
  },
  {
   "cell_type": "code",
   "execution_count": 88,
   "id": "bea531a0",
   "metadata": {},
   "outputs": [],
   "source": [
    "bases_split = bases.split()"
   ]
  },
  {
   "cell_type": "code",
   "execution_count": 89,
   "id": "41dc0a8c",
   "metadata": {},
   "outputs": [
    {
     "name": "stdout",
     "output_type": "stream",
     "text": [
      "['adenine', 'cytosine', 'guanine', 'thymine']\n"
     ]
    }
   ],
   "source": [
    "print(bases_split)"
   ]
  },
  {
   "cell_type": "code",
   "execution_count": 90,
   "id": "0da0705b",
   "metadata": {},
   "outputs": [],
   "source": [
    "bases=bases.swapcase()"
   ]
  },
  {
   "cell_type": "code",
   "execution_count": 91,
   "id": "2bbdce52",
   "metadata": {},
   "outputs": [
    {
     "name": "stdout",
     "output_type": "stream",
     "text": [
      "ADENINE CYTOSINE GUANINE THYMINE\n"
     ]
    }
   ],
   "source": [
    "print(bases)"
   ]
  },
  {
   "cell_type": "code",
   "execution_count": 92,
   "id": "78923fc1",
   "metadata": {},
   "outputs": [],
   "source": [
    "bases_split = bases.split()"
   ]
  },
  {
   "cell_type": "code",
   "execution_count": 93,
   "id": "77dc0ac9",
   "metadata": {},
   "outputs": [
    {
     "name": "stdout",
     "output_type": "stream",
     "text": [
      "['ADENINE', 'CYTOSINE', 'GUANINE', 'THYMINE']\n"
     ]
    }
   ],
   "source": [
    "print(bases_split)"
   ]
  },
  {
   "cell_type": "code",
   "execution_count": 94,
   "id": "0fd59259",
   "metadata": {},
   "outputs": [],
   "source": [
    "rev = bases_split[::-1]"
   ]
  },
  {
   "cell_type": "code",
   "execution_count": 95,
   "id": "7ab1903d",
   "metadata": {},
   "outputs": [
    {
     "name": "stdout",
     "output_type": "stream",
     "text": [
      "['THYMINE', 'GUANINE', 'CYTOSINE', 'ADENINE']\n"
     ]
    }
   ],
   "source": [
    "print(rev)"
   ]
  },
  {
   "cell_type": "code",
   "execution_count": 96,
   "id": "a956cb5d",
   "metadata": {},
   "outputs": [
    {
     "name": "stdout",
     "output_type": "stream",
     "text": [
      "A\n",
      "C\n",
      "G\n",
      "T\n"
     ]
    }
   ],
   "source": [
    "for b in bases_split:\n",
    "    print(b[0])"
   ]
  },
  {
   "cell_type": "code",
   "execution_count": 97,
   "id": "0ff881c3",
   "metadata": {},
   "outputs": [
    {
     "name": "stdout",
     "output_type": "stream",
     "text": [
      "T\n",
      "G\n",
      "C\n",
      "A\n"
     ]
    }
   ],
   "source": [
    "for b in rev:\n",
    "    print(b[0])"
   ]
  },
  {
   "cell_type": "code",
   "execution_count": 98,
   "id": "aa1b45dd",
   "metadata": {},
   "outputs": [],
   "source": [
    "def double(x):\n",
    "    result = x * 2\n",
    "    return result"
   ]
  },
  {
   "cell_type": "code",
   "execution_count": 100,
   "id": "eef1d2c0",
   "metadata": {},
   "outputs": [
    {
     "name": "stdout",
     "output_type": "stream",
     "text": [
      "200\n"
     ]
    }
   ],
   "source": [
    "doubled_value = double(100)\n",
    "print(doubled_value)"
   ]
  },
  {
   "cell_type": "code",
   "execution_count": 106,
   "id": "7b1edf70",
   "metadata": {},
   "outputs": [
    {
     "name": "stdout",
     "output_type": "stream",
     "text": [
      "GTCA\n",
      "G\n"
     ]
    }
   ],
   "source": [
    "def reverse(seq):\n",
    "    \"Return the reverse of a sequence.\"\n",
    "    rev = \"\"\n",
    "    for s in seq:\n",
    "        rev = s + rev\n",
    "    return rev\n",
    "print(reverse(\"ACTG\"))\n",
    "\n"
   ]
  },
  {
   "cell_type": "code",
   "execution_count": 122,
   "id": "a647d514",
   "metadata": {},
   "outputs": [
    {
     "name": "stdout",
     "output_type": "stream",
     "text": [
      "TTGGAA\n"
     ]
    }
   ],
   "source": [
    "def reverse(seq):\n",
    "    \"Return the reverse of a sequence with ::-1\"\n",
    "    rev = \"\"\n",
    "    rev = seq[::-1]\n",
    "    return rev\n",
    "print(reverse(\"AAGGTT\"))\n"
   ]
  },
  {
   "cell_type": "code",
   "execution_count": 102,
   "id": "219ed973",
   "metadata": {},
   "outputs": [
    {
     "name": "stdout",
     "output_type": "stream",
     "text": [
      "ACCTGCATGC\n"
     ]
    }
   ],
   "source": [
    "print(seq)"
   ]
  },
  {
   "cell_type": "code",
   "execution_count": 103,
   "id": "e8ca7423",
   "metadata": {},
   "outputs": [
    {
     "data": {
      "text/plain": [
       "'TGGACGTACG'"
      ]
     },
     "execution_count": 103,
     "metadata": {},
     "output_type": "execute_result"
    }
   ],
   "source": [
    "def complement(seq):\n",
    "    \"Switches A and T characters. Switches C and G characters.\"\n",
    "    comps = {\"A\":\"T\", \"T\":\"A\", \"C\":\"G\", \"G\":\"C\"}\n",
    "    comp = \"\"\n",
    "    for s in seq:\n",
    "        c = comps[s]\n",
    "        comp = comp + c\n",
    "    return comp\n",
    "\n",
    "complement(seq)"
   ]
  },
  {
   "cell_type": "code",
   "execution_count": 123,
   "id": "8566a803",
   "metadata": {},
   "outputs": [
    {
     "data": {
      "text/plain": [
       "'TTCCGGAA'"
      ]
     },
     "execution_count": 123,
     "metadata": {},
     "output_type": "execute_result"
    }
   ],
   "source": [
    "def reverse_complement(seq):\n",
    "    \"\"\"Reverses the complement of a sequence\"\"\"\n",
    "    return reverse(complement(seq))\n",
    "reverse_complement(\"TTCCGGAA\")"
   ]
  },
  {
   "cell_type": "code",
   "execution_count": null,
   "id": "2a6245f7",
   "metadata": {},
   "outputs": [],
   "source": []
  }
 ],
 "metadata": {
  "kernelspec": {
   "display_name": "Python 3 (ipykernel)",
   "language": "python",
   "name": "python3"
  },
  "language_info": {
   "codemirror_mode": {
    "name": "ipython",
    "version": 3
   },
   "file_extension": ".py",
   "mimetype": "text/x-python",
   "name": "python",
   "nbconvert_exporter": "python",
   "pygments_lexer": "ipython3",
   "version": "3.9.12"
  }
 },
 "nbformat": 4,
 "nbformat_minor": 5
}
